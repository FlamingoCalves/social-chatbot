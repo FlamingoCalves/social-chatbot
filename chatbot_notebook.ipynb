{
 "cells": [
  {
   "cell_type": "code",
   "execution_count": 1,
   "metadata": {},
   "outputs": [
    {
     "name": "stderr",
     "output_type": "stream",
     "text": [
      "/Users/jevans/Documents/data_science/Social_Chatbot/chatbot_venv/lib/python3.11/site-packages/tqdm/auto.py:21: TqdmWarning: IProgress not found. Please update jupyter and ipywidgets. See https://ipywidgets.readthedocs.io/en/stable/user_install.html\n",
      "  from .autonotebook import tqdm as notebook_tqdm\n",
      "None of PyTorch, TensorFlow >= 2.0, or Flax have been found. Models won't be available and only tokenizers, configuration and file/data utilities can be used.\n"
     ]
    }
   ],
   "source": [
    "import transformers"
   ]
  },
  {
   "cell_type": "code",
   "execution_count": 5,
   "metadata": {},
   "outputs": [
    {
     "data": {
      "text/html": [
       "<div>\n",
       "<style scoped>\n",
       "    .dataframe tbody tr th:only-of-type {\n",
       "        vertical-align: middle;\n",
       "    }\n",
       "\n",
       "    .dataframe tbody tr th {\n",
       "        vertical-align: top;\n",
       "    }\n",
       "\n",
       "    .dataframe thead th {\n",
       "        text-align: right;\n",
       "    }\n",
       "</style>\n",
       "<table border=\"1\" class=\"dataframe\">\n",
       "  <thead>\n",
       "    <tr style=\"text-align: right;\">\n",
       "      <th></th>\n",
       "      <th>Step</th>\n",
       "      <th>Description</th>\n",
       "    </tr>\n",
       "  </thead>\n",
       "  <tbody>\n",
       "    <tr>\n",
       "      <th>0</th>\n",
       "      <td>Select and Set Up NLP Framework</td>\n",
       "      <td>Choose an NLP framework (e.g., Hugging Face's Transformers) and set it up in the development environment.</td>\n",
       "    </tr>\n",
       "    <tr>\n",
       "      <th>1</th>\n",
       "      <td>Develop Conversation Scenarios</td>\n",
       "      <td>Write scripts for various conversation-starting scenarios, covering different social contexts.</td>\n",
       "    </tr>\n",
       "    <tr>\n",
       "      <th>2</th>\n",
       "      <td>Train the Chatbot</td>\n",
       "      <td>Utilize pre-trained models and fine-tune them with your conversational scenarios.</td>\n",
       "    </tr>\n",
       "    <tr>\n",
       "      <th>3</th>\n",
       "      <td>Implement Feedback System</td>\n",
       "      <td>Code the logic for the chatbot to provide feedback based on the user's responses.</td>\n",
       "    </tr>\n",
       "    <tr>\n",
       "      <th>4</th>\n",
       "      <td>Create the User Interface</td>\n",
       "      <td>Develop a simple user interface for text input and display, suitable for chatbot interactions.</td>\n",
       "    </tr>\n",
       "    <tr>\n",
       "      <th>5</th>\n",
       "      <td>Test and Iterate</td>\n",
       "      <td>Conduct initial testing to check the chatbot's functionality and feedback accuracy, and refine based on test results.</td>\n",
       "    </tr>\n",
       "    <tr>\n",
       "      <th>6</th>\n",
       "      <td>Gather User Feedback</td>\n",
       "      <td>Let a small group of users test the prototype and collect feedback on effectiveness and usability.</td>\n",
       "    </tr>\n",
       "    <tr>\n",
       "      <th>7</th>\n",
       "      <td>Refine and Expand</td>\n",
       "      <td>Based on feedback, refine the chatbot, add more features, and consider expanding to more complex conversation skills.</td>\n",
       "    </tr>\n",
       "  </tbody>\n",
       "</table>\n",
       "</div>"
      ],
      "text/plain": [
       "                              Step  \\\n",
       "0  Select and Set Up NLP Framework   \n",
       "1   Develop Conversation Scenarios   \n",
       "2                Train the Chatbot   \n",
       "3        Implement Feedback System   \n",
       "4        Create the User Interface   \n",
       "5                 Test and Iterate   \n",
       "6             Gather User Feedback   \n",
       "7                Refine and Expand   \n",
       "\n",
       "                                                                                                             Description  \n",
       "0              Choose an NLP framework (e.g., Hugging Face's Transformers) and set it up in the development environment.  \n",
       "1                         Write scripts for various conversation-starting scenarios, covering different social contexts.  \n",
       "2                                      Utilize pre-trained models and fine-tune them with your conversational scenarios.  \n",
       "3                                      Code the logic for the chatbot to provide feedback based on the user's responses.  \n",
       "4                         Develop a simple user interface for text input and display, suitable for chatbot interactions.  \n",
       "5  Conduct initial testing to check the chatbot's functionality and feedback accuracy, and refine based on test results.  \n",
       "6                     Let a small group of users test the prototype and collect feedback on effectiveness and usability.  \n",
       "7  Based on feedback, refine the chatbot, add more features, and consider expanding to more complex conversation skills.  "
      ]
     },
     "execution_count": 5,
     "metadata": {},
     "output_type": "execute_result"
    }
   ],
   "source": [
    "import pandas as pd\n",
    "\n",
    "pd.set_option('display.max_colwidth', None)\n",
    "\n",
    "# Project Steps and Descriptions\n",
    "steps = [\n",
    "    \"Select and Set Up NLP Framework\",\n",
    "    \"Develop Conversation Scenarios\",\n",
    "    \"Train the Chatbot\",\n",
    "    \"Implement Feedback System\",\n",
    "    \"Create the User Interface\",\n",
    "    \"Test and Iterate\",\n",
    "    \"Gather User Feedback\",\n",
    "    \"Refine and Expand\"\n",
    "]\n",
    "\n",
    "descriptions = [\n",
    "    \"Choose an NLP framework (e.g., Hugging Face's Transformers) and set it up in the development environment.\",\n",
    "    \"Write scripts for various conversation-starting scenarios, covering different social contexts.\",\n",
    "    \"Utilize pre-trained models and fine-tune them with your conversational scenarios.\",\n",
    "    \"Code the logic for the chatbot to provide feedback based on the user's responses.\",\n",
    "    \"Develop a simple user interface for text input and display, suitable for chatbot interactions.\",\n",
    "    \"Conduct initial testing to check the chatbot's functionality and feedback accuracy, and refine based on test results.\",\n",
    "    \"Let a small group of users test the prototype and collect feedback on effectiveness and usability.\",\n",
    "    \"Based on feedback, refine the chatbot, add more features, and consider expanding to more complex conversation skills.\"\n",
    "]\n",
    "\n",
    "# Creating a DataFrame\n",
    "df = pd.DataFrame({\n",
    "    \"Step\": steps,\n",
    "    \"Description\": descriptions\n",
    "})\n",
    "\n",
    "df"
   ]
  },
  {
   "cell_type": "code",
   "execution_count": null,
   "metadata": {},
   "outputs": [],
   "source": []
  }
 ],
 "metadata": {
  "kernelspec": {
   "display_name": "chatbot_venv",
   "language": "python",
   "name": "python3"
  },
  "language_info": {
   "codemirror_mode": {
    "name": "ipython",
    "version": 3
   },
   "file_extension": ".py",
   "mimetype": "text/x-python",
   "name": "python",
   "nbconvert_exporter": "python",
   "pygments_lexer": "ipython3",
   "version": "3.11.5"
  }
 },
 "nbformat": 4,
 "nbformat_minor": 2
}
